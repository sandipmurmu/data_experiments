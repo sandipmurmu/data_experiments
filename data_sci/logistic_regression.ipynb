{
 "cells": [
  {
   "cell_type": "markdown",
   "id": "cf05a38c-85d6-4f72-8e20-558e8b5fe2b9",
   "metadata": {},
   "source": [
    "### Logistic Regression from scratch"
   ]
  },
  {
   "cell_type": "code",
   "execution_count": 64,
   "id": "7aff8d5c-3b7f-4436-9322-cbb2046f52fb",
   "metadata": {},
   "outputs": [],
   "source": [
    "import numpy as np\n",
    "\n",
    "class LogisticRegression:\n",
    "    def __init__(self,learning_rate=0.02,num_iters=10):\n",
    "        self.lr = learning_rate\n",
    "        self.num_iters=num_iters\n",
    "        self.weights = None\n",
    "        self.bias = None\n",
    "\n",
    "    def sigmoid(self,X):\n",
    "        return 1 / (1 + np.exp(-X))\n",
    "\n",
    "    # log loss is equivalent of maximum likelihood estimation, MLE\n",
    "    def log_loss(self, y_true, y_pred):\n",
    "        n = len(y_true)\n",
    "        y1 = y_true * np.log(y_pred) \n",
    "        y2 = (1 - y_pred) * np.log(1 - y_pred)\n",
    "        return -(y1+y2)/n\n",
    "\n",
    "    \n",
    "    def feed_forward(self,X):\n",
    "        z = np.dot(X,self.weights) + self.bias\n",
    "        s = self.sigmoid(z)\n",
    "        return s\n",
    "    \n",
    "    def fit(self, X, y, verbose=True):\n",
    "        n_samples, n_features = X.shape\n",
    "        self.weights = np.zeros(n_features)\n",
    "        self.bias = 0\n",
    "        self.loss=[]\n",
    "        self.epochs=[]\n",
    "        for itr in range(self.num_iters):\n",
    "            y_pred = self.feed_forward(X)\n",
    "            loss = self.log_loss(y_true=y, y_pred=y_pred)\n",
    "            self.loss.append(loss)\n",
    "            self.epochs.append(itr)\n",
    "            if verbose:\n",
    "                print(\"loss : {}\".format(loss))\n",
    "            dz = y_pred - y\n",
    "            # gradients\n",
    "            dw = np.dot(X.T,dz) / n_samples\n",
    "            db = np.sum(dz) / n_samples\n",
    "            # update weights and bias\n",
    "            self.weights -= self.lr * dw\n",
    "            self.bias -= self.lr * db\n",
    "\n",
    "    def predict(self,X,threshold=0.5):\n",
    "        y_hat = np.dot(X,self.weights) + self.bias\n",
    "        y_predicted = self.sigmoid(y_hat)\n",
    "        target_class = []\n",
    "        for pred_value in y_predicted:\n",
    "            if pred_value > threshold:\n",
    "                target_class.append(1)\n",
    "            else:\n",
    "                target_class.append(0)\n",
    "        \n",
    "        return np.array(target_class)\n",
    "            \n",
    "        "
   ]
  },
  {
   "cell_type": "code",
   "execution_count": 68,
   "id": "cd4b34ab-68dd-4f7d-a190-1d8deccf0732",
   "metadata": {},
   "outputs": [],
   "source": [
    "# using the regression model\n",
    "from sklearn.datasets import make_classification\n",
    "from sklearn.model_selection import train_test_split\n",
    "\n",
    "X,y = make_classification(n_samples=1000, n_features=5, random_state=999)\n",
    "X_train, X_test, y_train, y_test = train_test_split(X,y,test_size=0.30)\n",
    "\n",
    "model = LogisticRegression()\n",
    "model.fit(X_train, y_train, verbose=False)\n"
   ]
  },
  {
   "cell_type": "code",
   "execution_count": 69,
   "id": "b1ce4858-6955-4e9c-9451-7fe459e409c1",
   "metadata": {},
   "outputs": [
    {
     "name": "stdout",
     "output_type": "stream",
     "text": [
      "[1 0 0 1 1 1 0 0 0 1 1 0 0 0 0 1 0 0 0 1 1 1 1 0 0 0 1 0 1 0 1 1 0 1 0 0 0\n",
      " 0 0 0 0 0 0 1 0 1 0 1 1 0 1 1 1 1 0 1 1 0 0 0 1 0 0 1 0 1 1 0 1 0 0 0 0 1\n",
      " 1 1 1 0 0 0 1 0 1 0 0 0 1 0 0 1 1 1 0 1 1 1 1 0 0 1 0 0 0 0 1 1 1 1 1 0 1\n",
      " 0 0 0 0 1 1 0 0 1 0 0 0 1 1 1 1 0 1 1 1 0 1 1 1 1 0 0 0 0 1 1 0 1 1 0 1 0\n",
      " 1 0 1 1 0 0 1 0 0 1 1 0 0 1 0 1 1 0 0 0 1 0 0 1 0 1 1 0 1 0 1 0 1 1 0 1 0\n",
      " 1 0 0 0 0 1 1 0 1 0 1 0 0 0 1 0 0 1 0 1 0 0 1 1 0 1 0 1 0 0 0 1 0 1 0 0 0\n",
      " 1 0 0 0 0 1 0 1 0 0 0 1 0 1 0 0 0 1 0 0 1 1 0 1 1 0 1 1 0 0 0 0 0 0 1 0 1\n",
      " 1 1 1 0 1 1 0 1 1 0 0 0 0 0 1 1 1 0 0 1 0 1 0 0 0 0 0 0 1 0 0 0 1 0 1 1 1\n",
      " 0 1 0 1]\n"
     ]
    }
   ],
   "source": [
    "result = model.predict(X_test)\n",
    "print(result)"
   ]
  },
  {
   "cell_type": "code",
   "execution_count": 72,
   "id": "3b9b5833-f487-4079-b607-0ff45aadb431",
   "metadata": {},
   "outputs": [
    {
     "name": "stdout",
     "output_type": "stream",
     "text": [
      "              precision    recall  f1-score   support\n",
      "\n",
      "           0       0.85      0.92      0.89       152\n",
      "           1       0.91      0.84      0.87       148\n",
      "\n",
      "    accuracy                           0.88       300\n",
      "   macro avg       0.88      0.88      0.88       300\n",
      "weighted avg       0.88      0.88      0.88       300\n",
      "\n"
     ]
    }
   ],
   "source": [
    "from sklearn.metrics import classification_report\n",
    "print(classification_report(y_true=y_test, y_pred=result))"
   ]
  },
  {
   "cell_type": "code",
   "execution_count": null,
   "id": "2e1f2053-4da5-497a-8965-dfeba1f35c76",
   "metadata": {},
   "outputs": [],
   "source": []
  }
 ],
 "metadata": {
  "kernelspec": {
   "display_name": "Python 3 (ipykernel)",
   "language": "python",
   "name": "python3"
  },
  "language_info": {
   "codemirror_mode": {
    "name": "ipython",
    "version": 3
   },
   "file_extension": ".py",
   "mimetype": "text/x-python",
   "name": "python",
   "nbconvert_exporter": "python",
   "pygments_lexer": "ipython3",
   "version": "3.11.8"
  }
 },
 "nbformat": 4,
 "nbformat_minor": 5
}
