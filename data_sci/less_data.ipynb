{
 "cells": [
  {
   "cell_type": "markdown",
   "id": "4445f26f-9f4f-47c1-941d-9b35e940341e",
   "metadata": {},
   "source": [
    "### What are the main challenges when training a machine learning model with limited data?"
   ]
  },
  {
   "cell_type": "markdown",
   "id": "b718901b-b8f7-4799-a10e-707941e6a083",
   "metadata": {},
   "source": [
    "With limited data, the model would extract / learn from limited information / pattern and hence exhibit overfitting. Hence more data would help model to inculculate from wider range of patterns available in large datasets."
   ]
  },
  {
   "cell_type": "code",
   "execution_count": 24,
   "id": "8501e95f-a208-4bea-b320-98882eb707a8",
   "metadata": {},
   "outputs": [],
   "source": [
    "from sklearn.datasets import make_classification\n",
    "from sklearn.linear_model import LogisticRegression\n",
    "from sklearn.model_selection import train_test_split\n",
    "from sklearn.metrics import classification_report"
   ]
  },
  {
   "cell_type": "code",
   "execution_count": 25,
   "id": "8381cdcb-c8f2-493f-81dc-ae390f618e09",
   "metadata": {},
   "outputs": [],
   "source": [
    "def generate_XYdata(n_samples, n_features):\n",
    "    X,y = make_classification(n_samples,n_features,n_classes=2, random_state=999)\n",
    "    return X,y"
   ]
  },
  {
   "cell_type": "code",
   "execution_count": 26,
   "id": "38686fbf-ac17-4807-b97a-d07adc9116ce",
   "metadata": {},
   "outputs": [],
   "source": [
    "def model_performance(X,y):\n",
    "    X_train, X_test, y_train, y_test = train_test_split(X,y, test_size=0.30, random_state=50)\n",
    "    model = LogisticRegression(max_iter=100)\n",
    "    model.fit(X=X_train, y=y_train)\n",
    "    y_pred = model.predict(X_test)\n",
    "    print(classification_report(y_true=y_test, y_pred=y_pred))\n",
    "    "
   ]
  },
  {
   "cell_type": "code",
   "execution_count": 27,
   "id": "a2143523-aa01-48b1-9cad-d47d08c32eb5",
   "metadata": {},
   "outputs": [
    {
     "name": "stdout",
     "output_type": "stream",
     "text": [
      "              precision    recall  f1-score   support\n",
      "\n",
      "           0       0.89      0.94      0.91        17\n",
      "           1       0.92      0.85      0.88        13\n",
      "\n",
      "    accuracy                           0.90        30\n",
      "   macro avg       0.90      0.89      0.90        30\n",
      "weighted avg       0.90      0.90      0.90        30\n",
      "\n"
     ]
    }
   ],
   "source": [
    "#Case 1\n",
    "X,y = generate_XYdata(100,100)\n",
    "model_performance(X,y)"
   ]
  },
  {
   "cell_type": "code",
   "execution_count": 28,
   "id": "3caa0b3a-f050-441e-b9c1-0d4cf6014445",
   "metadata": {},
   "outputs": [
    {
     "name": "stdout",
     "output_type": "stream",
     "text": [
      "              precision    recall  f1-score   support\n",
      "\n",
      "           0       0.82      0.64      0.72        14\n",
      "           1       0.74      0.88      0.80        16\n",
      "\n",
      "    accuracy                           0.77        30\n",
      "   macro avg       0.78      0.76      0.76        30\n",
      "weighted avg       0.77      0.77      0.76        30\n",
      "\n"
     ]
    }
   ],
   "source": [
    "#Case 2\n",
    "X,y = generate_XYdata(100,1000)\n",
    "model_performance(X,y)"
   ]
  },
  {
   "cell_type": "code",
   "execution_count": 29,
   "id": "a48a75e0-1186-4842-a96f-e1cf5d3530f6",
   "metadata": {},
   "outputs": [
    {
     "name": "stdout",
     "output_type": "stream",
     "text": [
      "              precision    recall  f1-score   support\n",
      "\n",
      "           0       0.82      0.86      0.84       147\n",
      "           1       0.86      0.82      0.84       153\n",
      "\n",
      "    accuracy                           0.84       300\n",
      "   macro avg       0.84      0.84      0.84       300\n",
      "weighted avg       0.84      0.84      0.84       300\n",
      "\n"
     ]
    }
   ],
   "source": [
    "X,y = generate_XYdata(1000,100)\n",
    "model_performance(X,y)"
   ]
  },
  {
   "cell_type": "code",
   "execution_count": 30,
   "id": "0f76a07f-9843-4cf7-a780-588aa6903cb0",
   "metadata": {},
   "outputs": [
    {
     "name": "stdout",
     "output_type": "stream",
     "text": [
      "              precision    recall  f1-score   support\n",
      "\n",
      "           0       0.82      0.82      0.82      1551\n",
      "           1       0.81      0.81      0.81      1449\n",
      "\n",
      "    accuracy                           0.81      3000\n",
      "   macro avg       0.81      0.81      0.81      3000\n",
      "weighted avg       0.81      0.81      0.81      3000\n",
      "\n"
     ]
    }
   ],
   "source": [
    "X,y = generate_XYdata(10000,1000)\n",
    "model_performance(X,y)"
   ]
  },
  {
   "cell_type": "code",
   "execution_count": 31,
   "id": "258b9594-3ade-4477-94ea-3d3441053986",
   "metadata": {},
   "outputs": [
    {
     "name": "stdout",
     "output_type": "stream",
     "text": [
      "              precision    recall  f1-score   support\n",
      "\n",
      "           0       0.90      0.94      0.92     14999\n",
      "           1       0.94      0.90      0.92     15001\n",
      "\n",
      "    accuracy                           0.92     30000\n",
      "   macro avg       0.92      0.92      0.92     30000\n",
      "weighted avg       0.92      0.92      0.92     30000\n",
      "\n"
     ]
    }
   ],
   "source": [
    "X,y = generate_XYdata(100000,1000)\n",
    "model_performance(X,y)"
   ]
  },
  {
   "cell_type": "code",
   "execution_count": null,
   "id": "5968e4e9-11f9-4ce9-952b-f3d13f7241ec",
   "metadata": {},
   "outputs": [],
   "source": []
  }
 ],
 "metadata": {
  "kernelspec": {
   "display_name": "Python 3 (ipykernel)",
   "language": "python",
   "name": "python3"
  },
  "language_info": {
   "codemirror_mode": {
    "name": "ipython",
    "version": 3
   },
   "file_extension": ".py",
   "mimetype": "text/x-python",
   "name": "python",
   "nbconvert_exporter": "python",
   "pygments_lexer": "ipython3",
   "version": "3.11.8"
  }
 },
 "nbformat": 4,
 "nbformat_minor": 5
}
