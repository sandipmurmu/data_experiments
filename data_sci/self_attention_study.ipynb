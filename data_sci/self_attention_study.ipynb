{
 "cells": [
  {
   "cell_type": "markdown",
   "metadata": {},
   "source": [
    "### Self attention solves a major issue in RNN which faces unable to process large/long text/docs. RNN also suffers from vanishinng gradients and gradient explosions, often needs large training step to reach local/global minima\n"
   ]
  }
 ],
 "metadata": {
  "language_info": {
   "name": "python"
  }
 },
 "nbformat": 4,
 "nbformat_minor": 2
}
